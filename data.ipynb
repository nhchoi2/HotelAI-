{
 "cells": [
  {
   "cell_type": "markdown",
   "metadata": {},
   "source": [
    "호텔 데이터 정리"
   ]
  },
  {
   "cell_type": "code",
   "execution_count": null,
   "metadata": {},
   "outputs": [],
   "source": [
    "import pandas as pd\n",
    "# 컬럼영문명\t컬럼한글명\t데이터타입\t길이\tPK여부\tNOT NULL여부\n",
    "# 1\tLDGS_CD\t숙박업코드\tSTRING\t\tN\tY\n",
    "# 2\tLDGS_NM\t숙박업명\tSTRING\t\tN\tY\n",
    "# 3\tLDGS_TY_CD\t숙박업유형코드\tSTRING\t1\tN\tY\n",
    "# 4\tLDGMNT_TY_NM\t숙박유형명\tSTRING\t1\tN\tY\n",
    "\n",
    "# 순서\t컬럼영문명\t컬럼한글명\t데이터타입\t길이\tPK여부\tNOT NULL여부\n",
    "# 1\tLDGS_CD\t숙박업코드\tBIGINT\t100\tY\tY\n",
    "# 2\tLDGS_NM\t숙박업명\tSTRING\t100\tN\tY\n",
    "# 3\tLDGS_ZIP_NO\t숙박업우편번호\tSTRING\t100\tN\tY\n",
    "# 4\tLDGS_ROAD_NM_ADDR\t숙박업도로명주소\tSTRING\t100\tN\tY\n",
    "\n",
    "# 순서\t컬럼영문명\t컬럼한글명\t데이터타입\t길이\tPK여부\tNOT NULL여부\n",
    "# 1\tLDGS_CD\t숙박업코드\tSTRING\t100\tN\tY\n",
    "# 2\tLDGS_NM\t숙박업명\tSTRING\t100\tN\tY\n",
    "# 3\tLDGS_LA\t숙박업위도\tDOUBLE\t\tN\tY\n",
    "# 4\tLDGS_LO\t숙박업경도\tDOUBLE\t\tN\tY\n",
    "\n",
    "# 순서\t컬럼영문명\t컬럼한글명\t데이터타입\t길이\tPK여부\tNOT NULL여부\n",
    "# 1\tLDGS_CD\t숙박업코드\tBIGINT\t100\tY\tY\n",
    "# 2\tGSRM_CD\t객실코드\tSTRING\t1000\tN\tY\n",
    "# 3\tLDGS_IMAGE_URL\t숙박업이미지URL\tSTRING\t1000\tN\tY\n",
    "# 4\tGSRM_IMAGE_URL\t객실이미지URL\tSTRING\t1000\tN\tY\n",
    "# 5\tIMAGE_RNEWL_DE\t이미지갱신일자\tSTRING\t1000\tN\tY"
   ]
  },
  {
   "cell_type": "code",
   "execution_count": 119,
   "metadata": {},
   "outputs": [],
   "source": [
    "# 데이터 로드 \n",
    "df_location=pd.read_csv(\"./data/YN_LDGS_PROPERTY_INFO_202412.csv\",encoding=\"utf-8\", quotechar='\"', on_bad_lines='skip')\n",
    "df_coordinates=pd.read_csv(\"./data/YN_LDGS_PROPERTY_LC_INFO_202412.csv\",encoding=\"utf-8\", quotechar='\"', on_bad_lines='skip')\n",
    "df_hotels=pd.read_csv(\"./data/YN_LDGS_STAYNG_TY_202412.csv\",encoding=\"utf-8\", quotechar='\"', on_bad_lines='skip')\n",
    "df_images=pd.read_csv(\"./data/YN_LDGS_PROPRERTY_PHOTO_URL_202412.csv\",encoding=\"utf-8\", quotechar='\"', on_bad_lines='skip')"
   ]
  },
  {
   "cell_type": "code",
   "execution_count": 120,
   "metadata": {},
   "outputs": [],
   "source": [
    "df_images.isna().sum()\n",
    "df_images = df_images.drop(columns=[\"LDGS_IMAGE_URL\"])"
   ]
  },
  {
   "cell_type": "code",
   "execution_count": 121,
   "metadata": {},
   "outputs": [],
   "source": [
    "# 중복 컬럼 삭제\n",
    "df_location = df_location.drop(columns=[\"LDGS_NM\"])\n",
    "df_coordinates = df_coordinates.drop(columns=[\"LDGS_NM\"])\n"
   ]
  },
  {
   "cell_type": "code",
   "execution_count": 122,
   "metadata": {},
   "outputs": [],
   "source": [
    "# LDGS_CD 기준으로 조인\n",
    "df_hotel_data = df_hotels.merge(df_location, on=\"LDGS_CD\", how=\"left\")\n",
    "df_hotel_data = df_hotel_data.merge(df_coordinates, on=\"LDGS_CD\", how=\"left\")"
   ]
  },
  {
   "cell_type": "code",
   "execution_count": 123,
   "metadata": {},
   "outputs": [],
   "source": [
    "df_hotel_data = df_hotels.merge(df_location, on=\"LDGS_CD\", how=\"left\")\n",
    "df_hotel_data = df_hotel_data.merge(df_coordinates, on=\"LDGS_CD\", how=\"left\")\n",
    "df_hotel_data = df_hotel_data.merge(df_images, on=\"LDGS_CD\", how=\"left\")"
   ]
  },
  {
   "cell_type": "code",
   "execution_count": 124,
   "metadata": {},
   "outputs": [],
   "source": [
    "df_hotel_data.rename(columns={\n",
    "    \"LDGS_CD\": \"숙박업코드\",\n",
    "    \"LDGS_NM\": \"숙박업이름\",\n",
    "    \"LDGS_TY_CD\": \"숙박업유형코드\",\n",
    "    \"LDGMNT_TY_NM\": \"숙박유형명\",\n",
    "    \"LDGS_ZIP_NO\": \"우편번호\",\n",
    "    \"LDGS_ROAD_NM_ADDR\": \"도로명주소\",\n",
    "    \"LDGS_LA\": \"위도\",\n",
    "    \"LDGS_LO\": \"경도\",\n",
    "    \"GSRM_IMAGE_URL\": \"객실이미지URL\",\n",
    "    \"IMAGE_RNEWL_DE\": \"이미지갱신일자\"\n",
    "}, inplace=True)"
   ]
  },
  {
   "cell_type": "code",
   "execution_count": null,
   "metadata": {},
   "outputs": [],
   "source": [
    "# 중복 숙방업 제거\n",
    "df_hotel_data = df_hotel_data.drop_duplicates(subset=[\"숙박업코드\"], keep=\"first\")"
   ]
  },
  {
   "cell_type": "code",
   "execution_count": 137,
   "metadata": {},
   "outputs": [
    {
     "data": {
      "text/plain": [
       "숙박업코드        0\n",
       "숙박업이름        0\n",
       "숙박업유형코드      0\n",
       "숙박유형명        0\n",
       "우편번호         0\n",
       "도로명주소        0\n",
       "위도           0\n",
       "경도           0\n",
       "GSRM_CD     38\n",
       "객실이미지URL    38\n",
       "이미지갱신일자     38\n",
       "dtype: int64"
      ]
     },
     "execution_count": 137,
     "metadata": {},
     "output_type": "execute_result"
    }
   ],
   "source": [
    "df_hotel_data.isna().sum()"
   ]
  },
  {
   "cell_type": "code",
   "execution_count": 139,
   "metadata": {},
   "outputs": [],
   "source": [
    "df_hotel_data=df_hotel_data.dropna()"
   ]
  },
  {
   "cell_type": "code",
   "execution_count": 146,
   "metadata": {},
   "outputs": [],
   "source": [
    "df_hotel_data=df_hotel_data[~df_hotel_data[\"숙박유형명\"].str.contains(\"GuestHouse\")]"
   ]
  },
  {
   "cell_type": "code",
   "execution_count": 147,
   "metadata": {},
   "outputs": [],
   "source": [
    "df_hotel_data.to_csv(\"./data/hotel_data.csv\", index=False, encoding=\"utf-8-sig\")"
   ]
  },
  {
   "cell_type": "code",
   "execution_count": 162,
   "metadata": {},
   "outputs": [
    {
     "data": {
      "text/plain": [
       "array(['Motel', 'Hotel', 'Pension'], dtype=object)"
      ]
     },
     "execution_count": 162,
     "metadata": {},
     "output_type": "execute_result"
    }
   ],
   "source": [
    "df_hotel_data['숙박유형명'].unique()"
   ]
  },
  {
   "cell_type": "markdown",
   "metadata": {},
   "source": [
    "레져 데이터 정리"
   ]
  },
  {
   "cell_type": "code",
   "execution_count": null,
   "metadata": {},
   "outputs": [],
   "source": [
    "# 레져시설\n",
    "\n",
    "# 순서\t컬럼영문명\t컬럼한글명\t데이터타입\t길이\tPK여부\tNOT NULL여부\n",
    "# 1\tLSR_GOODS_CD\t레저상품코드\tSTRING\t20\tY\tY\n",
    "# 2\tLSR_GOODS_NM\t레저상품명\tSTRING\t200\tN\tN\n",
    "# 3\tFCLTY_ROAD_NM_ADDR\t시설도로명주소\tSTRING\t2000\tN\tN\n",
    "\n",
    "# 순서\t컬럼영문명\t컬럼한글명\t데이터타입\t길이\tPK여부\tNOT NULL여부\n",
    "# 1\tLSR_GOODS_CD\t레저상품코드\tDOUBLE\t20\tY\tY\n",
    "# 2\tFCLTY_CRDNT_LA\t시설좌표위도\tDOUBLE\t20\tN\tN\n",
    "# 3\tFCLTY_CRDNT_LO\t시설좌표경도\tDOUBLE\t20\tN\tN\n",
    "\n",
    "# 순서\t컬럼영문명\t컬럼한글명\t데이터타입\t길이\tPK여부\tNOT NULL여부\n",
    "# 1\tLSR_GOODS_CD\t레저상품코드\tSTRING\t20\tY\tY\n",
    "# 2\tLSR_GOODS_NM\t레저상품명\tSTRING\t200\tN\tN\n",
    "# 3\tLSR_MAIN_THUMB_URL\t레저메인썸네일URL\tSTRING\t2000\tN\tN\n",
    "# 4\tLSR_DETAIL_IMAGE_URL\t레저상세이미지URL\tSTRING\t10000\tN\tN\n",
    "\n",
    "# 순서\t컬럼영문명\t컬럼한글명\t데이터타입\t길이\tPK여부\tNOT NULL여부\n",
    "# 1\tLSR_GOODS_CD\t레저상품코드\tSTRING\t20\tY\tY\n",
    "# 2\tLSR_GOODS_NM\t레저상품명\tSTRING\t200\tN\tN\n",
    "# 3\tFCLTY_TEL_NO\t시설전화번호\tSTRING\t20\tN\tN\n"
   ]
  },
  {
   "cell_type": "code",
   "execution_count": null,
   "metadata": {},
   "outputs": [],
   "source": [
    "# 데이터 로드드\n",
    "df_leisure_images = pd.read_csv(\"./data/YN_LSR_DEAL_GOODS_PHOTO_URL_202412.csv\",encoding=\"utf-8\", quotechar='\"', on_bad_lines='skip')\n",
    "df_leisure_location =pd.read_csv(\"./data/YN_LSR_LC_INFO_202412.csv\",encoding=\"utf-8\", quotechar='\"', on_bad_lines='skip')\n",
    "df_leisure_location [\"LSR_GOODS_CD\"] = df_leisure_location [\"LSR_GOODS_CD\"].astype(int)\n",
    "df_leisure_info  =pd.read_csv(\"./data/YN_LSR_RDNMADR_202412.csv\",encoding=\"utf-8\", quotechar='\"', on_bad_lines='skip')\n",
    "df_leisure_contact=pd.read_csv(\"./data/YN_LSR_TELNO_202412.csv\",encoding=\"utf-8\", quotechar='\"', on_bad_lines='skip')"
   ]
  },
  {
   "cell_type": "code",
   "execution_count": null,
   "metadata": {},
   "outputs": [],
   "source": [
    "# 중복 컬럼 제거\n",
    "df_leisure_images = df_leisure_images.drop(columns=[\"LSR_GOODS_NM\"])\n",
    "df_leisure_contact = df_leisure_contact.drop(columns=[\"LSR_GOODS_NM\"])\n",
    "\n"
   ]
  },
  {
   "cell_type": "code",
   "execution_count": 89,
   "metadata": {},
   "outputs": [],
   "source": [
    "# LSR_GOODS_CD 기준 데이터 조인 \n",
    "df_leisure_data = df_leisure_info.merge(df_leisure_location, on=\"LSR_GOODS_CD\", how=\"left\")\n",
    "df_leisure_data = df_leisure_data.merge(df_leisure_images, on=\"LSR_GOODS_CD\", how=\"left\")\n",
    "df_leisure_data = df_leisure_data.merge(df_leisure_contact, on=\"LSR_GOODS_CD\", how=\"left\")"
   ]
  },
  {
   "cell_type": "code",
   "execution_count": 94,
   "metadata": {},
   "outputs": [],
   "source": [
    "df_leisure_data.isna().sum()\n",
    "df_leisure_data=df_leisure_data.dropna()"
   ]
  },
  {
   "cell_type": "code",
   "execution_count": 95,
   "metadata": {},
   "outputs": [
    {
     "data": {
      "text/plain": [
       "LSR_GOODS_CD            0\n",
       "LSR_GOODS_NM            0\n",
       "FCLTY_ROAD_NM_ADDR      0\n",
       "FCLTY_CRDNT_LA          0\n",
       "FCLTY_CRDNT_LO          0\n",
       "LSR_MAIN_THUMB_URL      0\n",
       "LSR_DETAIL_IMAGE_URL    0\n",
       "FCLTY_TEL_NO            0\n",
       "dtype: int64"
      ]
     },
     "execution_count": 95,
     "metadata": {},
     "output_type": "execute_result"
    }
   ],
   "source": [
    "df_leisure_data.isna().sum()"
   ]
  },
  {
   "cell_type": "code",
   "execution_count": 96,
   "metadata": {},
   "outputs": [
    {
     "name": "stderr",
     "output_type": "stream",
     "text": [
      "C:\\Users\\nhcho\\AppData\\Local\\Temp\\ipykernel_5208\\3860166231.py:2: SettingWithCopyWarning: \n",
      "A value is trying to be set on a copy of a slice from a DataFrame\n",
      "\n",
      "See the caveats in the documentation: https://pandas.pydata.org/pandas-docs/stable/user_guide/indexing.html#returning-a-view-versus-a-copy\n",
      "  df_leisure_data.rename(columns={\n"
     ]
    }
   ],
   "source": [
    "# 컬럼이름 한글화\n",
    "df_leisure_data.rename(columns={\n",
    "    \"LSR_GOODS_CD\": \"레저상품코드\",\n",
    "    \"LSR_GOODS_NM\": \"레저상품명\",\n",
    "    \"FCLTY_ROAD_NM_ADDR\": \"시설도로명주소\",\n",
    "    \"FCLTY_CRDNT_LA\": \"시설위도\",\n",
    "    \"FCLTY_CRDNT_LO\": \"시설경도\",\n",
    "    \"LSR_MAIN_THUMB_URL\": \"레저메인썸네일URL\",\n",
    "    \"LSR_DETAIL_IMAGE_URL\": \"레저상세이미지URL\",\n",
    "    \"FCLTY_TEL_NO\": \"시설전화번호\"\n",
    "}, inplace=True)"
   ]
  },
  {
   "cell_type": "code",
   "execution_count": 116,
   "metadata": {},
   "outputs": [
    {
     "data": {
      "text/plain": [
       "(7452, 8)"
      ]
     },
     "execution_count": 116,
     "metadata": {},
     "output_type": "execute_result"
    }
   ],
   "source": [
    "df_leisure_data.shape"
   ]
  },
  {
   "cell_type": "code",
   "execution_count": 99,
   "metadata": {},
   "outputs": [],
   "source": [
    "df_leisure_data.to_csv(\"./data/leisure_data.csv\", index=False, encoding=\"utf-8-sig\")"
   ]
  },
  {
   "cell_type": "code",
   "execution_count": null,
   "metadata": {},
   "outputs": [],
   "source": []
  },
  {
   "cell_type": "code",
   "execution_count": null,
   "metadata": {},
   "outputs": [],
   "source": [
    "# 숙박업 금액 \n",
    "# 순서\t컬럼영문명\t컬럼한글명\t데이터타입\t길이\tPK여부\tNOT NULL여부\n",
    "# 1\tLDGMNT_MT\t숙박월\tVARCHAR\t2\tN\tN\n",
    "# 2\tLDGMNT_DE\t숙박일자\tVARCHAR\t8\tN\tN\n",
    "# 3\tWKDAY_NM\t요일명\tVARCHAR\t200\tN\tN\n",
    "# 4\tCTY_NM\t도시명\tVARCHAR\t200\tN\tN\n",
    "# 5\tSIGNGU_NM\t시군구명\tVARCHAR\t200\tN\tN\n",
    "# 6\tADSTRD_NM\t행정동명\tVARCHAR\t200\tN\tN\n",
    "# 7\tLDGMNT_TY_NM\t숙박유형명\tVARCHAR\t200\tN\tN\n",
    "# 8\tAVRG_SLE_PRICE\t평균판매금액\tDECIMAL\t28,5\tN\tN"
   ]
  },
  {
   "cell_type": "code",
   "execution_count": 180,
   "metadata": {},
   "outputs": [],
   "source": [
    "df_price=pd.read_csv(\"./data/price.csv\",encoding=\"utf-8\", quotechar='\"', on_bad_lines='skip')"
   ]
  },
  {
   "cell_type": "code",
   "execution_count": 185,
   "metadata": {},
   "outputs": [
    {
     "data": {
      "text/html": [
       "<div>\n",
       "<style scoped>\n",
       "    .dataframe tbody tr th:only-of-type {\n",
       "        vertical-align: middle;\n",
       "    }\n",
       "\n",
       "    .dataframe tbody tr th {\n",
       "        vertical-align: top;\n",
       "    }\n",
       "\n",
       "    .dataframe thead th {\n",
       "        text-align: right;\n",
       "    }\n",
       "</style>\n",
       "<table border=\"1\" class=\"dataframe\">\n",
       "  <thead>\n",
       "    <tr style=\"text-align: right;\">\n",
       "      <th></th>\n",
       "      <th>숙박유형명</th>\n",
       "      <th>평균판매금액</th>\n",
       "      <th>지역명</th>\n",
       "      <th>성수기여부</th>\n",
       "    </tr>\n",
       "  </thead>\n",
       "  <tbody>\n",
       "    <tr>\n",
       "      <th>0</th>\n",
       "      <td>Hotel</td>\n",
       "      <td>88667</td>\n",
       "      <td>강원도 강릉시</td>\n",
       "      <td>비수기</td>\n",
       "    </tr>\n",
       "    <tr>\n",
       "      <th>1</th>\n",
       "      <td>Hotel</td>\n",
       "      <td>205885</td>\n",
       "      <td>강원도 강릉시</td>\n",
       "      <td>성수기</td>\n",
       "    </tr>\n",
       "    <tr>\n",
       "      <th>2</th>\n",
       "      <td>Hotel</td>\n",
       "      <td>96455</td>\n",
       "      <td>강원도 강릉시</td>\n",
       "      <td>비수기</td>\n",
       "    </tr>\n",
       "    <tr>\n",
       "      <th>3</th>\n",
       "      <td>Hotel</td>\n",
       "      <td>142178</td>\n",
       "      <td>강원도 강릉시</td>\n",
       "      <td>성수기</td>\n",
       "    </tr>\n",
       "    <tr>\n",
       "      <th>4</th>\n",
       "      <td>Hotel</td>\n",
       "      <td>65000</td>\n",
       "      <td>강원도 강릉시</td>\n",
       "      <td>비수기</td>\n",
       "    </tr>\n",
       "  </tbody>\n",
       "</table>\n",
       "</div>"
      ],
      "text/plain": [
       "   숙박유형명  평균판매금액      지역명 성수기여부\n",
       "0  Hotel   88667  강원도 강릉시   비수기\n",
       "1  Hotel  205885  강원도 강릉시   성수기\n",
       "2  Hotel   96455  강원도 강릉시   비수기\n",
       "3  Hotel  142178  강원도 강릉시   성수기\n",
       "4  Hotel   65000  강원도 강릉시   비수기"
      ]
     },
     "execution_count": 185,
     "metadata": {},
     "output_type": "execute_result"
    }
   ],
   "source": [
    "df_price.head()"
   ]
  },
  {
   "cell_type": "code",
   "execution_count": 182,
   "metadata": {},
   "outputs": [],
   "source": [
    "df_price = df_price.drop(columns=[\"숙박월\"])\n",
    "df_price = df_price.drop(columns=[\"요일명\"])"
   ]
  },
  {
   "cell_type": "code",
   "execution_count": 184,
   "metadata": {},
   "outputs": [],
   "source": [
    "df_price[\"성수기여부\"] = df_price[\"평균판매금액\"].apply(lambda x: \"성수기\" if x >= 100000 else \"비수기\")"
   ]
  },
  {
   "cell_type": "code",
   "execution_count": 186,
   "metadata": {},
   "outputs": [],
   "source": [
    "df_price.to_csv(\"./data/price.csv\", index=False, encoding=\"utf-8-sig\")"
   ]
  },
  {
   "cell_type": "code",
   "execution_count": null,
   "metadata": {},
   "outputs": [],
   "source": []
  }
 ],
 "metadata": {
  "kernelspec": {
   "display_name": "hi",
   "language": "python",
   "name": "python3"
  },
  "language_info": {
   "codemirror_mode": {
    "name": "ipython",
    "version": 3
   },
   "file_extension": ".py",
   "mimetype": "text/x-python",
   "name": "python",
   "nbconvert_exporter": "python",
   "pygments_lexer": "ipython3",
   "version": "3.10.16"
  }
 },
 "nbformat": 4,
 "nbformat_minor": 2
}

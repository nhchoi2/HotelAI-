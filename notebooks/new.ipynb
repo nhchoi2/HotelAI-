{
 "cells": [
  {
   "cell_type": "code",
   "execution_count": 8,
   "metadata": {},
   "outputs": [],
   "source": [
    "import pandas as pd\n",
    "import folium\n",
    "from folium.plugins import MarkerCluster\n",
    "import os"
   ]
  },
  {
   "cell_type": "code",
   "execution_count": 9,
   "metadata": {},
   "outputs": [
    {
     "name": "stdout",
     "output_type": "stream",
     "text": [
      "c:\\Users\\nhcho\\OneDrive\\바탕 화면\\Github\\HotelAI-\\notebooks\n"
     ]
    }
   ],
   "source": [
    "print(os.getcwd())"
   ]
  },
  {
   "cell_type": "code",
   "execution_count": 11,
   "metadata": {},
   "outputs": [],
   "source": [
    "# 1. 데이터 로드\n",
    "hotel_df = pd.read_csv(\"../data/raw/hotel_data.csv\")\n",
    "leisure_df = pd.read_csv(\"../data/raw/leisure_data.csv\")\n",
    "price_df = pd.read_csv(\"../data/raw/price.csv\")"
   ]
  },
  {
   "cell_type": "code",
   "execution_count": 12,
   "metadata": {},
   "outputs": [],
   "source": [
    "# 2. 지도 초기화 (중심 좌표 [36.5, 127.5], zoom_start=7)\n",
    "m = folium.Map(location=[36.5, 127.5], zoom_start=10)\n",
    "\n",
    "# 3. 호텔 데이터 클러스터 (객실 이미지 포함)\n",
    "hotel_cluster = MarkerCluster(name='호텔 데이터').add_to(m)\n",
    "for idx, row in hotel_df.iterrows():\n",
    "    popup_html = f\"\"\"\n",
    "    <b>숙박업이름:</b> {row['숙박업이름']}<br>\n",
    "    <b>숙박업유형명:</b> {row['숙박유형명']}<br>\n",
    "    <b>지역명:</b> {row['지역명']}<br>\n",
    "    <img src=\"{row['객실이미지URL']}\" width=\"200\" alt=\"객실 이미지\">\n",
    "    \"\"\"\n",
    "    folium.Marker(\n",
    "        location=[row['위도'], row['경도']],\n",
    "        popup=folium.Popup(popup_html, max_width=300),\n",
    "        icon=folium.Icon(color='blue', icon='home', prefix='fa')\n",
    "    ).add_to(hotel_cluster)\n",
    "\n",
    "# 4. 레저 데이터 클러스터\n",
    "leisure_cluster = MarkerCluster(name='레저 데이터').add_to(m)\n",
    "for idx, row in leisure_df.iterrows():\n",
    "    popup_html = f\"\"\"\n",
    "    <b>레저상품명:</b> {row['레저상품명']}<br>\n",
    "    <b>시설도로명주소:</b> {row['시설도로명주소']}\n",
    "    \"\"\"\n",
    "    folium.Marker(\n",
    "        location=[row['시설위도'], row['시설경도']],\n",
    "        popup=folium.Popup(popup_html, max_width=300),\n",
    "        icon=folium.Icon(color='green', icon='star', prefix='fa')\n",
    "    ).add_to(leisure_cluster)\n",
    "\n",
    "# 5. 가격 데이터 처리: 호텔 데이터를 이용하여 지역별 대표 좌표 계산 후 병합\n",
    "region_coords = hotel_df.groupby('지역명').agg({'위도': 'mean', '경도': 'mean'}).reset_index()\n",
    "price_coords_df = pd.merge(price_df, region_coords, on='지역명', how='left')\n",
    "price_coords_df_clean = price_coords_df.dropna(subset=['위도', '경도'])\n",
    "\n",
    "price_cluster = MarkerCluster(name='가격 데이터').add_to(m)\n",
    "for idx, row in price_coords_df_clean.iterrows():\n",
    "    popup_html = f\"\"\"\n",
    "    <b>숙박업유형명:</b> {row['숙박유형명']}<br>\n",
    "    <b>평균판매금액:</b> {row['평균판매금액']}<br>\n",
    "    <b>성수기여부:</b> {row['성수기여부']}\n",
    "    \"\"\"\n",
    "    folium.CircleMarker(\n",
    "        location=[row['위도'], row['경도']],\n",
    "        radius=7,\n",
    "        color='red',\n",
    "        fill=True,\n",
    "        fill_color='red',\n",
    "        popup=folium.Popup(popup_html, max_width=300)\n",
    "    ).add_to(price_cluster)\n",
    "\n",
    "# 6. 레이어 컨트롤 추가 (데이터셋별 표시/숨김 가능)\n",
    "folium.LayerControl().add_to(m)\n",
    "\n",
    "# 7. 지도 HTML 파일로 저장 (또는 Jupyter Notebook에서는 m 출력)\n",
    "m.save(\"cluster_map_with_image.html\")"
   ]
  },
  {
   "cell_type": "code",
   "execution_count": null,
   "metadata": {},
   "outputs": [],
   "source": []
  }
 ],
 "metadata": {
  "kernelspec": {
   "display_name": "hi",
   "language": "python",
   "name": "python3"
  },
  "language_info": {
   "codemirror_mode": {
    "name": "ipython",
    "version": 3
   },
   "file_extension": ".py",
   "mimetype": "text/x-python",
   "name": "python",
   "nbconvert_exporter": "python",
   "pygments_lexer": "ipython3",
   "version": "3.10.16"
  }
 },
 "nbformat": 4,
 "nbformat_minor": 2
}

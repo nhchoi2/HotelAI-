{
 "cells": [
  {
   "cell_type": "markdown",
   "metadata": {},
   "source": [
    "호텔 데이터 정리"
   ]
  },
  {
   "cell_type": "code",
   "execution_count": 1,
   "metadata": {},
   "outputs": [],
   "source": [
    "import pandas as pd\n",
    "# 컬럼영문명\t컬럼한글명\t데이터타입\t길이\tPK여부\tNOT NULL여부\n",
    "# 1\tLDGS_CD\t숙박업코드\tSTRING\t\tN\tY\n",
    "# 2\tLDGS_NM\t숙박업명\tSTRING\t\tN\tY\n",
    "# 3\tLDGS_TY_CD\t숙박업유형코드\tSTRING\t1\tN\tY\n",
    "# 4\tLDGMNT_TY_NM\t숙박유형명\tSTRING\t1\tN\tY\n",
    "\n",
    "# 순서\t컬럼영문명\t컬럼한글명\t데이터타입\t길이\tPK여부\tNOT NULL여부\n",
    "# 1\tLDGS_CD\t숙박업코드\tBIGINT\t100\tY\tY\n",
    "# 2\tLDGS_NM\t숙박업명\tSTRING\t100\tN\tY\n",
    "# 3\tLDGS_ZIP_NO\t숙박업우편번호\tSTRING\t100\tN\tY\n",
    "# 4\tLDGS_ROAD_NM_ADDR\t숙박업도로명주소\tSTRING\t100\tN\tY\n",
    "\n",
    "# 순서\t컬럼영문명\t컬럼한글명\t데이터타입\t길이\tPK여부\tNOT NULL여부\n",
    "# 1\tLDGS_CD\t숙박업코드\tSTRING\t100\tN\tY\n",
    "# 2\tLDGS_NM\t숙박업명\tSTRING\t100\tN\tY\n",
    "# 3\tLDGS_LA\t숙박업위도\tDOUBLE\t\tN\tY\n",
    "# 4\tLDGS_LO\t숙박업경도\tDOUBLE\t\tN\tY\n",
    "\n",
    "# 순서\t컬럼영문명\t컬럼한글명\t데이터타입\t길이\tPK여부\tNOT NULL여부\n",
    "# 1\tLDGS_CD\t숙박업코드\tBIGINT\t100\tY\tY\n",
    "# 2\tGSRM_CD\t객실코드\tSTRING\t1000\tN\tY\n",
    "# 3\tLDGS_IMAGE_URL\t숙박업이미지URL\tSTRING\t1000\tN\tY\n",
    "# 4\tGSRM_IMAGE_URL\t객실이미지URL\tSTRING\t1000\tN\tY\n",
    "# 5\tIMAGE_RNEWL_DE\t이미지갱신일자\tSTRING\t1000\tN\tY"
   ]
  },
  {
   "cell_type": "code",
   "execution_count": 119,
   "metadata": {},
   "outputs": [],
   "source": [
    "# 데이터 로드 \n",
    "df_location=pd.read_csv(\"./data/YN_LDGS_PROPERTY_INFO_202412.csv\",encoding=\"utf-8\", quotechar='\"', on_bad_lines='skip')\n",
    "df_coordinates=pd.read_csv(\"./data/YN_LDGS_PROPERTY_LC_INFO_202412.csv\",encoding=\"utf-8\", quotechar='\"', on_bad_lines='skip')\n",
    "df_hotels=pd.read_csv(\"./data/YN_LDGS_STAYNG_TY_202412.csv\",encoding=\"utf-8\", quotechar='\"', on_bad_lines='skip')\n",
    "df_images=pd.read_csv(\"./data/YN_LDGS_PROPRERTY_PHOTO_URL_202412.csv\",encoding=\"utf-8\", quotechar='\"', on_bad_lines='skip')"
   ]
  },
  {
   "cell_type": "code",
   "execution_count": 120,
   "metadata": {},
   "outputs": [],
   "source": [
    "df_images.isna().sum()\n",
    "df_images = df_images.drop(columns=[\"LDGS_IMAGE_URL\"])"
   ]
  },
  {
   "cell_type": "code",
   "execution_count": 121,
   "metadata": {},
   "outputs": [],
   "source": [
    "# 중복 컬럼 삭제\n",
    "df_location = df_location.drop(columns=[\"LDGS_NM\"])\n",
    "df_coordinates = df_coordinates.drop(columns=[\"LDGS_NM\"])\n"
   ]
  },
  {
   "cell_type": "code",
   "execution_count": 122,
   "metadata": {},
   "outputs": [],
   "source": [
    "# LDGS_CD 기준으로 조인\n",
    "df_hotel_data = df_hotels.merge(df_location, on=\"LDGS_CD\", how=\"left\")\n",
    "df_hotel_data = df_hotel_data.merge(df_coordinates, on=\"LDGS_CD\", how=\"left\")"
   ]
  },
  {
   "cell_type": "code",
   "execution_count": 123,
   "metadata": {},
   "outputs": [],
   "source": [
    "df_hotel_data = df_hotels.merge(df_location, on=\"LDGS_CD\", how=\"left\")\n",
    "df_hotel_data = df_hotel_data.merge(df_coordinates, on=\"LDGS_CD\", how=\"left\")\n",
    "df_hotel_data = df_hotel_data.merge(df_images, on=\"LDGS_CD\", how=\"left\")"
   ]
  },
  {
   "cell_type": "code",
   "execution_count": 124,
   "metadata": {},
   "outputs": [],
   "source": [
    "df_hotel_data.rename(columns={\n",
    "    \"LDGS_CD\": \"숙박업코드\",\n",
    "    \"LDGS_NM\": \"숙박업이름\",\n",
    "    \"LDGS_TY_CD\": \"숙박업유형코드\",\n",
    "    \"LDGMNT_TY_NM\": \"숙박유형명\",\n",
    "    \"LDGS_ZIP_NO\": \"우편번호\",\n",
    "    \"LDGS_ROAD_NM_ADDR\": \"도로명주소\",\n",
    "    \"LDGS_LA\": \"위도\",\n",
    "    \"LDGS_LO\": \"경도\",\n",
    "    \"GSRM_IMAGE_URL\": \"객실이미지URL\",\n",
    "    \"IMAGE_RNEWL_DE\": \"이미지갱신일자\"\n",
    "}, inplace=True)"
   ]
  },
  {
   "cell_type": "code",
   "execution_count": null,
   "metadata": {},
   "outputs": [],
   "source": [
    "# 중복 숙방업 제거\n",
    "df_hotel_data = df_hotel_data.drop_duplicates(subset=[\"숙박업코드\"], keep=\"first\")"
   ]
  },
  {
   "cell_type": "code",
   "execution_count": 137,
   "metadata": {},
   "outputs": [
    {
     "data": {
      "text/plain": [
       "숙박업코드        0\n",
       "숙박업이름        0\n",
       "숙박업유형코드      0\n",
       "숙박유형명        0\n",
       "우편번호         0\n",
       "도로명주소        0\n",
       "위도           0\n",
       "경도           0\n",
       "GSRM_CD     38\n",
       "객실이미지URL    38\n",
       "이미지갱신일자     38\n",
       "dtype: int64"
      ]
     },
     "execution_count": 137,
     "metadata": {},
     "output_type": "execute_result"
    }
   ],
   "source": [
    "df_hotel_data.isna().sum()"
   ]
  },
  {
   "cell_type": "code",
   "execution_count": 139,
   "metadata": {},
   "outputs": [],
   "source": [
    "df_hotel_data=df_hotel_data.dropna()"
   ]
  },
  {
   "cell_type": "code",
   "execution_count": 146,
   "metadata": {},
   "outputs": [],
   "source": [
    "df_hotel_data=df_hotel_data[~df_hotel_data[\"숙박유형명\"].str.contains(\"GuestHouse\")]"
   ]
  },
  {
   "cell_type": "code",
   "execution_count": 147,
   "metadata": {},
   "outputs": [],
   "source": [
    "df_hotel_data.to_csv(\"./data/hotel_data.csv\", index=False, encoding=\"utf-8-sig\")"
   ]
  },
  {
   "cell_type": "code",
   "execution_count": 162,
   "metadata": {},
   "outputs": [
    {
     "data": {
      "text/plain": [
       "array(['Motel', 'Hotel', 'Pension'], dtype=object)"
      ]
     },
     "execution_count": 162,
     "metadata": {},
     "output_type": "execute_result"
    }
   ],
   "source": [
    "df_hotel_data['숙박유형명'].unique()"
   ]
  },
  {
   "cell_type": "code",
   "execution_count": 21,
   "metadata": {},
   "outputs": [
    {
     "data": {
      "text/html": [
       "<div>\n",
       "<style scoped>\n",
       "    .dataframe tbody tr th:only-of-type {\n",
       "        vertical-align: middle;\n",
       "    }\n",
       "\n",
       "    .dataframe tbody tr th {\n",
       "        vertical-align: top;\n",
       "    }\n",
       "\n",
       "    .dataframe thead th {\n",
       "        text-align: right;\n",
       "    }\n",
       "</style>\n",
       "<table border=\"1\" class=\"dataframe\">\n",
       "  <thead>\n",
       "    <tr style=\"text-align: right;\">\n",
       "      <th></th>\n",
       "      <th>숙박업코드</th>\n",
       "      <th>숙박업이름</th>\n",
       "      <th>숙박업유형코드</th>\n",
       "      <th>숙박유형명</th>\n",
       "      <th>우편번호</th>\n",
       "      <th>도로명주소</th>\n",
       "      <th>위도</th>\n",
       "      <th>경도</th>\n",
       "      <th>GSRM_CD</th>\n",
       "      <th>객실이미지URL</th>\n",
       "      <th>이미지갱신일자</th>\n",
       "    </tr>\n",
       "  </thead>\n",
       "  <tbody>\n",
       "    <tr>\n",
       "      <th>0</th>\n",
       "      <td>23184</td>\n",
       "      <td>영등포 라이프스타일 F HOTEL</td>\n",
       "      <td>1</td>\n",
       "      <td>Motel</td>\n",
       "      <td>7306</td>\n",
       "      <td>서울 영등포구 경인로108길 8 (영등포동1가)</td>\n",
       "      <td>37.517182</td>\n",
       "      <td>126.911217</td>\n",
       "      <td>2471.0</td>\n",
       "      <td>https://yaimg.yanolja.com/resize/place/v4/2017...</td>\n",
       "      <td>2024-11-14 16:02:46.000</td>\n",
       "    </tr>\n",
       "    <tr>\n",
       "      <th>1</th>\n",
       "      <td>23192</td>\n",
       "      <td>청주 오창 M+</td>\n",
       "      <td>1</td>\n",
       "      <td>Motel</td>\n",
       "      <td>28118</td>\n",
       "      <td>충청북도 청주시 청원구 오창읍 양청송대길 9-12</td>\n",
       "      <td>36.713884</td>\n",
       "      <td>127.439228</td>\n",
       "      <td>2484.0</td>\n",
       "      <td>https://yaimg.yanolja.com/v5/2022/04/28/10/626...</td>\n",
       "      <td>2024-10-08 16:58:31.000</td>\n",
       "    </tr>\n",
       "  </tbody>\n",
       "</table>\n",
       "</div>"
      ],
      "text/plain": [
       "   숙박업코드               숙박업이름  숙박업유형코드  숙박유형명   우편번호  \\\n",
       "0  23184  영등포 라이프스타일 F HOTEL        1  Motel   7306   \n",
       "1  23192            청주 오창 M+        1  Motel  28118   \n",
       "\n",
       "                         도로명주소         위도          경도  GSRM_CD  \\\n",
       "0   서울 영등포구 경인로108길 8 (영등포동1가)  37.517182  126.911217   2471.0   \n",
       "1  충청북도 청주시 청원구 오창읍 양청송대길 9-12  36.713884  127.439228   2484.0   \n",
       "\n",
       "                                            객실이미지URL                  이미지갱신일자  \n",
       "0  https://yaimg.yanolja.com/resize/place/v4/2017...  2024-11-14 16:02:46.000  \n",
       "1  https://yaimg.yanolja.com/v5/2022/04/28/10/626...  2024-10-08 16:58:31.000  "
      ]
     },
     "execution_count": 21,
     "metadata": {},
     "output_type": "execute_result"
    }
   ],
   "source": [
    "pd.read_csv(\"./data/hotel_data.csv\").head(2)"
   ]
  },
  {
   "cell_type": "markdown",
   "metadata": {},
   "source": [
    "레져 데이터 정리"
   ]
  },
  {
   "cell_type": "code",
   "execution_count": null,
   "metadata": {},
   "outputs": [],
   "source": [
    "# 레져시설\n",
    "\n",
    "# 순서\t컬럼영문명\t컬럼한글명\t데이터타입\t길이\tPK여부\tNOT NULL여부\n",
    "# 1\tLSR_GOODS_CD\t레저상품코드\tSTRING\t20\tY\tY\n",
    "# 2\tLSR_GOODS_NM\t레저상품명\tSTRING\t200\tN\tN\n",
    "# 3\tFCLTY_ROAD_NM_ADDR\t시설도로명주소\tSTRING\t2000\tN\tN\n",
    "\n",
    "# 순서\t컬럼영문명\t컬럼한글명\t데이터타입\t길이\tPK여부\tNOT NULL여부\n",
    "# 1\tLSR_GOODS_CD\t레저상품코드\tDOUBLE\t20\tY\tY\n",
    "# 2\tFCLTY_CRDNT_LA\t시설좌표위도\tDOUBLE\t20\tN\tN\n",
    "# 3\tFCLTY_CRDNT_LO\t시설좌표경도\tDOUBLE\t20\tN\tN\n",
    "\n",
    "# 순서\t컬럼영문명\t컬럼한글명\t데이터타입\t길이\tPK여부\tNOT NULL여부\n",
    "# 1\tLSR_GOODS_CD\t레저상품코드\tSTRING\t20\tY\tY\n",
    "# 2\tLSR_GOODS_NM\t레저상품명\tSTRING\t200\tN\tN\n",
    "# 3\tLSR_MAIN_THUMB_URL\t레저메인썸네일URL\tSTRING\t2000\tN\tN\n",
    "# 4\tLSR_DETAIL_IMAGE_URL\t레저상세이미지URL\tSTRING\t10000\tN\tN\n",
    "\n",
    "# 순서\t컬럼영문명\t컬럼한글명\t데이터타입\t길이\tPK여부\tNOT NULL여부\n",
    "# 1\tLSR_GOODS_CD\t레저상품코드\tSTRING\t20\tY\tY\n",
    "# 2\tLSR_GOODS_NM\t레저상품명\tSTRING\t200\tN\tN\n",
    "# 3\tFCLTY_TEL_NO\t시설전화번호\tSTRING\t20\tN\tN\n"
   ]
  },
  {
   "cell_type": "code",
   "execution_count": null,
   "metadata": {},
   "outputs": [],
   "source": [
    "# 데이터 로드드\n",
    "df_leisure_images = pd.read_csv(\"./data/YN_LSR_DEAL_GOODS_PHOTO_URL_202412.csv\",encoding=\"utf-8\", quotechar='\"', on_bad_lines='skip')\n",
    "df_leisure_location =pd.read_csv(\"./data/YN_LSR_LC_INFO_202412.csv\",encoding=\"utf-8\", quotechar='\"', on_bad_lines='skip')\n",
    "df_leisure_location [\"LSR_GOODS_CD\"] = df_leisure_location [\"LSR_GOODS_CD\"].astype(int)\n",
    "df_leisure_info  =pd.read_csv(\"./data/YN_LSR_RDNMADR_202412.csv\",encoding=\"utf-8\", quotechar='\"', on_bad_lines='skip')\n",
    "df_leisure_contact=pd.read_csv(\"./data/YN_LSR_TELNO_202412.csv\",encoding=\"utf-8\", quotechar='\"', on_bad_lines='skip')"
   ]
  },
  {
   "cell_type": "code",
   "execution_count": null,
   "metadata": {},
   "outputs": [],
   "source": [
    "# 중복 컬럼 제거\n",
    "df_leisure_images = df_leisure_images.drop(columns=[\"LSR_GOODS_NM\"])\n",
    "df_leisure_contact = df_leisure_contact.drop(columns=[\"LSR_GOODS_NM\"])\n",
    "\n"
   ]
  },
  {
   "cell_type": "code",
   "execution_count": 89,
   "metadata": {},
   "outputs": [],
   "source": [
    "# LSR_GOODS_CD 기준 데이터 조인 \n",
    "df_leisure_data = df_leisure_info.merge(df_leisure_location, on=\"LSR_GOODS_CD\", how=\"left\")\n",
    "df_leisure_data = df_leisure_data.merge(df_leisure_images, on=\"LSR_GOODS_CD\", how=\"left\")\n",
    "df_leisure_data = df_leisure_data.merge(df_leisure_contact, on=\"LSR_GOODS_CD\", how=\"left\")"
   ]
  },
  {
   "cell_type": "code",
   "execution_count": 94,
   "metadata": {},
   "outputs": [],
   "source": [
    "df_leisure_data.isna().sum()\n",
    "df_leisure_data=df_leisure_data.dropna()"
   ]
  },
  {
   "cell_type": "code",
   "execution_count": 95,
   "metadata": {},
   "outputs": [
    {
     "data": {
      "text/plain": [
       "LSR_GOODS_CD            0\n",
       "LSR_GOODS_NM            0\n",
       "FCLTY_ROAD_NM_ADDR      0\n",
       "FCLTY_CRDNT_LA          0\n",
       "FCLTY_CRDNT_LO          0\n",
       "LSR_MAIN_THUMB_URL      0\n",
       "LSR_DETAIL_IMAGE_URL    0\n",
       "FCLTY_TEL_NO            0\n",
       "dtype: int64"
      ]
     },
     "execution_count": 95,
     "metadata": {},
     "output_type": "execute_result"
    }
   ],
   "source": [
    "df_leisure_data.isna().sum()"
   ]
  },
  {
   "cell_type": "code",
   "execution_count": 96,
   "metadata": {},
   "outputs": [
    {
     "name": "stderr",
     "output_type": "stream",
     "text": [
      "C:\\Users\\nhcho\\AppData\\Local\\Temp\\ipykernel_5208\\3860166231.py:2: SettingWithCopyWarning: \n",
      "A value is trying to be set on a copy of a slice from a DataFrame\n",
      "\n",
      "See the caveats in the documentation: https://pandas.pydata.org/pandas-docs/stable/user_guide/indexing.html#returning-a-view-versus-a-copy\n",
      "  df_leisure_data.rename(columns={\n"
     ]
    }
   ],
   "source": [
    "# 컬럼이름 한글화\n",
    "df_leisure_data.rename(columns={\n",
    "    \"LSR_GOODS_CD\": \"레저상품코드\",\n",
    "    \"LSR_GOODS_NM\": \"레저상품명\",\n",
    "    \"FCLTY_ROAD_NM_ADDR\": \"시설도로명주소\",\n",
    "    \"FCLTY_CRDNT_LA\": \"시설위도\",\n",
    "    \"FCLTY_CRDNT_LO\": \"시설경도\",\n",
    "    \"LSR_MAIN_THUMB_URL\": \"레저메인썸네일URL\",\n",
    "    \"LSR_DETAIL_IMAGE_URL\": \"레저상세이미지URL\",\n",
    "    \"FCLTY_TEL_NO\": \"시설전화번호\"\n",
    "}, inplace=True)"
   ]
  },
  {
   "cell_type": "code",
   "execution_count": 116,
   "metadata": {},
   "outputs": [
    {
     "data": {
      "text/plain": [
       "(7452, 8)"
      ]
     },
     "execution_count": 116,
     "metadata": {},
     "output_type": "execute_result"
    }
   ],
   "source": [
    "df_leisure_data.shape"
   ]
  },
  {
   "cell_type": "code",
   "execution_count": 99,
   "metadata": {},
   "outputs": [],
   "source": [
    "df_leisure_data.to_csv(\"./data/leisure_data.csv\", index=False, encoding=\"utf-8-sig\")"
   ]
  },
  {
   "cell_type": "code",
   "execution_count": 17,
   "metadata": {},
   "outputs": [
    {
     "data": {
      "text/html": [
       "<div>\n",
       "<style scoped>\n",
       "    .dataframe tbody tr th:only-of-type {\n",
       "        vertical-align: middle;\n",
       "    }\n",
       "\n",
       "    .dataframe tbody tr th {\n",
       "        vertical-align: top;\n",
       "    }\n",
       "\n",
       "    .dataframe thead th {\n",
       "        text-align: right;\n",
       "    }\n",
       "</style>\n",
       "<table border=\"1\" class=\"dataframe\">\n",
       "  <thead>\n",
       "    <tr style=\"text-align: right;\">\n",
       "      <th></th>\n",
       "      <th>레저상품코드</th>\n",
       "      <th>레저상품명</th>\n",
       "      <th>시설도로명주소</th>\n",
       "      <th>시설위도</th>\n",
       "      <th>시설경도</th>\n",
       "      <th>레저메인썸네일URL</th>\n",
       "      <th>레저상세이미지URL</th>\n",
       "      <th>시설전화번호</th>\n",
       "    </tr>\n",
       "  </thead>\n",
       "  <tbody>\n",
       "    <tr>\n",
       "      <th>0</th>\n",
       "      <td>10022269</td>\n",
       "      <td>[부산 해운대] 부산 요트투어 요트와 특가</td>\n",
       "      <td>대한민국 부산광역시 해운대구 해운대해변로 84</td>\n",
       "      <td>35.160587</td>\n",
       "      <td>129.139954</td>\n",
       "      <td>https://image6.yanolja.com/leisure/MsI9WehdYes...</td>\n",
       "      <td>[https://image6.yanolja.com/leisure/x35F4oC3xX...</td>\n",
       "      <td>010-8960-3888</td>\n",
       "    </tr>\n",
       "    <tr>\n",
       "      <th>1</th>\n",
       "      <td>10022279</td>\n",
       "      <td>[부산 해운대] 부산 요트투어 요트G 퍼블릭투어</td>\n",
       "      <td>부산광역시 해운대구 해운대해변로 84</td>\n",
       "      <td>35.160576</td>\n",
       "      <td>129.141022</td>\n",
       "      <td>https://image6.yanolja.com/leisure/vGgpTdPL2zF...</td>\n",
       "      <td>[https://image6.yanolja.com/leisure/vGgpTdPL2z...</td>\n",
       "      <td>1899-3031</td>\n",
       "    </tr>\n",
       "  </tbody>\n",
       "</table>\n",
       "</div>"
      ],
      "text/plain": [
       "     레저상품코드                       레저상품명                    시설도로명주소       시설위도  \\\n",
       "0  10022269     [부산 해운대] 부산 요트투어 요트와 특가  대한민국 부산광역시 해운대구 해운대해변로 84  35.160587   \n",
       "1  10022279  [부산 해운대] 부산 요트투어 요트G 퍼블릭투어       부산광역시 해운대구 해운대해변로 84  35.160576   \n",
       "\n",
       "         시설경도                                         레저메인썸네일URL  \\\n",
       "0  129.139954  https://image6.yanolja.com/leisure/MsI9WehdYes...   \n",
       "1  129.141022  https://image6.yanolja.com/leisure/vGgpTdPL2zF...   \n",
       "\n",
       "                                          레저상세이미지URL         시설전화번호  \n",
       "0  [https://image6.yanolja.com/leisure/x35F4oC3xX...  010-8960-3888  \n",
       "1  [https://image6.yanolja.com/leisure/vGgpTdPL2z...      1899-3031  "
      ]
     },
     "execution_count": 17,
     "metadata": {},
     "output_type": "execute_result"
    }
   ],
   "source": [
    "pd.read_csv('data/leisure_data.csv').head(2)"
   ]
  },
  {
   "cell_type": "code",
   "execution_count": null,
   "metadata": {},
   "outputs": [],
   "source": [
    "# 숙박업 금액 \n",
    "# 순서\t컬럼영문명\t컬럼한글명\t데이터타입\t길이\tPK여부\tNOT NULL여부\n",
    "# 1\tLDGMNT_MT\t숙박월\tVARCHAR\t2\tN\tN\n",
    "# 2\tLDGMNT_DE\t숙박일자\tVARCHAR\t8\tN\tN\n",
    "# 3\tWKDAY_NM\t요일명\tVARCHAR\t200\tN\tN\n",
    "# 4\tCTY_NM\t도시명\tVARCHAR\t200\tN\tN\n",
    "# 5\tSIGNGU_NM\t시군구명\tVARCHAR\t200\tN\tN\n",
    "# 6\tADSTRD_NM\t행정동명\tVARCHAR\t200\tN\tN\n",
    "# 7\tLDGMNT_TY_NM\t숙박유형명\tVARCHAR\t200\tN\tN\n",
    "# 8\tAVRG_SLE_PRICE\t평균판매금액\tDECIMAL\t28,5\tN\tN"
   ]
  },
  {
   "cell_type": "code",
   "execution_count": 7,
   "metadata": {},
   "outputs": [],
   "source": [
    "df_price=pd.read_csv(\"./data/price.csv\",encoding=\"utf-8\", quotechar='\"', on_bad_lines='skip')"
   ]
  },
  {
   "cell_type": "code",
   "execution_count": null,
   "metadata": {},
   "outputs": [
    {
     "data": {
      "text/html": [
       "<div>\n",
       "<style scoped>\n",
       "    .dataframe tbody tr th:only-of-type {\n",
       "        vertical-align: middle;\n",
       "    }\n",
       "\n",
       "    .dataframe tbody tr th {\n",
       "        vertical-align: top;\n",
       "    }\n",
       "\n",
       "    .dataframe thead th {\n",
       "        text-align: right;\n",
       "    }\n",
       "</style>\n",
       "<table border=\"1\" class=\"dataframe\">\n",
       "  <thead>\n",
       "    <tr style=\"text-align: right;\">\n",
       "      <th></th>\n",
       "      <th>숙박유형명</th>\n",
       "      <th>평균판매금액</th>\n",
       "      <th>지역명</th>\n",
       "      <th>성수기여부</th>\n",
       "    </tr>\n",
       "  </thead>\n",
       "  <tbody>\n",
       "    <tr>\n",
       "      <th>0</th>\n",
       "      <td>Hotel</td>\n",
       "      <td>88667</td>\n",
       "      <td>강원도 강릉시</td>\n",
       "      <td>0</td>\n",
       "    </tr>\n",
       "    <tr>\n",
       "      <th>1</th>\n",
       "      <td>Hotel</td>\n",
       "      <td>205885</td>\n",
       "      <td>강원도 강릉시</td>\n",
       "      <td>1</td>\n",
       "    </tr>\n",
       "  </tbody>\n",
       "</table>\n",
       "</div>"
      ],
      "text/plain": [
       "   숙박유형명  평균판매금액      지역명  성수기여부\n",
       "0  Hotel   88667  강원도 강릉시      0\n",
       "1  Hotel  205885  강원도 강릉시      1"
      ]
     },
     "execution_count": 18,
     "metadata": {},
     "output_type": "execute_result"
    }
   ],
   "source": [
    "df_price.head"
   ]
  },
  {
   "cell_type": "code",
   "execution_count": null,
   "metadata": {},
   "outputs": [
    {
     "data": {
      "text/html": [
       "<div>\n",
       "<style scoped>\n",
       "    .dataframe tbody tr th:only-of-type {\n",
       "        vertical-align: middle;\n",
       "    }\n",
       "\n",
       "    .dataframe tbody tr th {\n",
       "        vertical-align: top;\n",
       "    }\n",
       "\n",
       "    .dataframe thead th {\n",
       "        text-align: right;\n",
       "    }\n",
       "</style>\n",
       "<table border=\"1\" class=\"dataframe\">\n",
       "  <thead>\n",
       "    <tr style=\"text-align: right;\">\n",
       "      <th></th>\n",
       "      <th>숙박업코드</th>\n",
       "      <th>숙박업이름</th>\n",
       "      <th>숙박업유형코드</th>\n",
       "      <th>숙박유형명</th>\n",
       "      <th>우편번호</th>\n",
       "      <th>도로명주소</th>\n",
       "      <th>위도</th>\n",
       "      <th>경도</th>\n",
       "      <th>GSRM_CD</th>\n",
       "      <th>객실이미지URL</th>\n",
       "      <th>이미지갱신일자</th>\n",
       "    </tr>\n",
       "  </thead>\n",
       "  <tbody>\n",
       "    <tr>\n",
       "      <th>0</th>\n",
       "      <td>23184</td>\n",
       "      <td>영등포 라이프스타일 F HOTEL</td>\n",
       "      <td>1</td>\n",
       "      <td>Motel</td>\n",
       "      <td>7306</td>\n",
       "      <td>서울 영등포구 경인로108길 8 (영등포동1가)</td>\n",
       "      <td>37.517182</td>\n",
       "      <td>126.911217</td>\n",
       "      <td>2471.0</td>\n",
       "      <td>https://yaimg.yanolja.com/resize/place/v4/2017...</td>\n",
       "      <td>2024-11-14 16:02:46.000</td>\n",
       "    </tr>\n",
       "    <tr>\n",
       "      <th>1</th>\n",
       "      <td>23192</td>\n",
       "      <td>청주 오창 M+</td>\n",
       "      <td>1</td>\n",
       "      <td>Motel</td>\n",
       "      <td>28118</td>\n",
       "      <td>충청북도 청주시 청원구 오창읍 양청송대길 9-12</td>\n",
       "      <td>36.713884</td>\n",
       "      <td>127.439228</td>\n",
       "      <td>2484.0</td>\n",
       "      <td>https://yaimg.yanolja.com/v5/2022/04/28/10/626...</td>\n",
       "      <td>2024-10-08 16:58:31.000</td>\n",
       "    </tr>\n",
       "    <tr>\n",
       "      <th>2</th>\n",
       "      <td>23197</td>\n",
       "      <td>강남 렉시</td>\n",
       "      <td>1</td>\n",
       "      <td>Motel</td>\n",
       "      <td>6235</td>\n",
       "      <td>서울특별시 강남구 테헤란로16길 11</td>\n",
       "      <td>37.498792</td>\n",
       "      <td>127.033956</td>\n",
       "      <td>2495.0</td>\n",
       "      <td>https://yaimg.yanolja.com/v5/2020/01/20/10/5e2...</td>\n",
       "      <td>2024-04-26 12:15:14.000</td>\n",
       "    </tr>\n",
       "    <tr>\n",
       "      <th>3</th>\n",
       "      <td>23204</td>\n",
       "      <td>대전 유성 시나브로</td>\n",
       "      <td>1</td>\n",
       "      <td>Motel</td>\n",
       "      <td>34185</td>\n",
       "      <td>대전광역시 유성구 온천북로59번길 9</td>\n",
       "      <td>36.356873</td>\n",
       "      <td>127.349172</td>\n",
       "      <td>2504.0</td>\n",
       "      <td>https://yaimg.yanolja.com/resize/place/v4/2017...</td>\n",
       "      <td>2023-10-24 17:11:12.000</td>\n",
       "    </tr>\n",
       "    <tr>\n",
       "      <th>4</th>\n",
       "      <td>23206</td>\n",
       "      <td>부천(상동) MY HOTEL</td>\n",
       "      <td>1</td>\n",
       "      <td>Motel</td>\n",
       "      <td>14542</td>\n",
       "      <td>경기도 부천시 길주로121번길 18-11(상동)</td>\n",
       "      <td>37.506612</td>\n",
       "      <td>126.756644</td>\n",
       "      <td>2506.0</td>\n",
       "      <td>https://yaimg.yanolja.com/resize/place/v4/2017...</td>\n",
       "      <td>2023-08-15 15:52:11.000</td>\n",
       "    </tr>\n",
       "    <tr>\n",
       "      <th>...</th>\n",
       "      <td>...</td>\n",
       "      <td>...</td>\n",
       "      <td>...</td>\n",
       "      <td>...</td>\n",
       "      <td>...</td>\n",
       "      <td>...</td>\n",
       "      <td>...</td>\n",
       "      <td>...</td>\n",
       "      <td>...</td>\n",
       "      <td>...</td>\n",
       "      <td>...</td>\n",
       "    </tr>\n",
       "    <tr>\n",
       "      <th>25748</th>\n",
       "      <td>1000114526</td>\n",
       "      <td>전주 중노송동 파인</td>\n",
       "      <td>1</td>\n",
       "      <td>Motel</td>\n",
       "      <td>55000</td>\n",
       "      <td>전라북도 전주시 완산구 현무3길 54</td>\n",
       "      <td>35.822097</td>\n",
       "      <td>127.150451</td>\n",
       "      <td>385615.0</td>\n",
       "      <td>https://yaimg.yanolja.com/v5/2021/06/01/18/60b...</td>\n",
       "      <td>2024-01-01 04:03:08.000</td>\n",
       "    </tr>\n",
       "    <tr>\n",
       "      <th>25749</th>\n",
       "      <td>1000114529</td>\n",
       "      <td>거창서핑파크 리조트 &amp; 글램핑</td>\n",
       "      <td>2</td>\n",
       "      <td>Hotel</td>\n",
       "      <td>50103</td>\n",
       "      <td>경상남도 거창군 위천면 거차1길 23-18</td>\n",
       "      <td>35.747967</td>\n",
       "      <td>127.836350</td>\n",
       "      <td>385504.0</td>\n",
       "      <td>https://yaimg.yanolja.com/v5/2022/08/23/19/630...</td>\n",
       "      <td>2024-12-06 14:11:41.000</td>\n",
       "    </tr>\n",
       "    <tr>\n",
       "      <th>25750</th>\n",
       "      <td>1000114558</td>\n",
       "      <td>여수 굿썸</td>\n",
       "      <td>1</td>\n",
       "      <td>Motel</td>\n",
       "      <td>59769</td>\n",
       "      <td>전라남도 여수시 돌산읍 강남로 45</td>\n",
       "      <td>34.719781</td>\n",
       "      <td>127.750254</td>\n",
       "      <td>385558.0</td>\n",
       "      <td>https://yaimg.yanolja.com/v5/2021/05/31/17/60b...</td>\n",
       "      <td>2024-11-02 23:13:02.000</td>\n",
       "    </tr>\n",
       "    <tr>\n",
       "      <th>25751</th>\n",
       "      <td>1000114577</td>\n",
       "      <td>순천 브라운도트 순천역점</td>\n",
       "      <td>1</td>\n",
       "      <td>Motel</td>\n",
       "      <td>57964</td>\n",
       "      <td>전라남도 순천시 팔마로 153</td>\n",
       "      <td>34.944613</td>\n",
       "      <td>127.504991</td>\n",
       "      <td>404848.0</td>\n",
       "      <td>https://yaimg.yanolja.com/v5/2021/08/27/15/612...</td>\n",
       "      <td>2024-12-09 15:40:18.000</td>\n",
       "    </tr>\n",
       "    <tr>\n",
       "      <th>25752</th>\n",
       "      <td>1000114675</td>\n",
       "      <td>인천(검단) 브라운도트 인천검단사거리점</td>\n",
       "      <td>1</td>\n",
       "      <td>Motel</td>\n",
       "      <td>22636</td>\n",
       "      <td>인천광역시 서구 완정로117번길 31(왕길동)</td>\n",
       "      <td>37.600624</td>\n",
       "      <td>126.659497</td>\n",
       "      <td>403843.0</td>\n",
       "      <td>https://yaimg.yanolja.com/v5/2021/08/30/11/612...</td>\n",
       "      <td>2024-07-17 12:56:32.000</td>\n",
       "    </tr>\n",
       "  </tbody>\n",
       "</table>\n",
       "<p>25753 rows × 11 columns</p>\n",
       "</div>"
      ],
      "text/plain": [
       "            숙박업코드                  숙박업이름  숙박업유형코드  숙박유형명   우편번호  \\\n",
       "0           23184     영등포 라이프스타일 F HOTEL        1  Motel   7306   \n",
       "1           23192               청주 오창 M+        1  Motel  28118   \n",
       "2           23197                  강남 렉시        1  Motel   6235   \n",
       "3           23204             대전 유성 시나브로        1  Motel  34185   \n",
       "4           23206        부천(상동) MY HOTEL        1  Motel  14542   \n",
       "...           ...                    ...      ...    ...    ...   \n",
       "25748  1000114526             전주 중노송동 파인        1  Motel  55000   \n",
       "25749  1000114529       거창서핑파크 리조트 & 글램핑        2  Hotel  50103   \n",
       "25750  1000114558                  여수 굿썸        1  Motel  59769   \n",
       "25751  1000114577          순천 브라운도트 순천역점        1  Motel  57964   \n",
       "25752  1000114675  인천(검단) 브라운도트 인천검단사거리점        1  Motel  22636   \n",
       "\n",
       "                             도로명주소         위도          경도   GSRM_CD  \\\n",
       "0       서울 영등포구 경인로108길 8 (영등포동1가)  37.517182  126.911217    2471.0   \n",
       "1      충청북도 청주시 청원구 오창읍 양청송대길 9-12  36.713884  127.439228    2484.0   \n",
       "2             서울특별시 강남구 테헤란로16길 11  37.498792  127.033956    2495.0   \n",
       "3             대전광역시 유성구 온천북로59번길 9  36.356873  127.349172    2504.0   \n",
       "4       경기도 부천시 길주로121번길 18-11(상동)  37.506612  126.756644    2506.0   \n",
       "...                            ...        ...         ...       ...   \n",
       "25748         전라북도 전주시 완산구 현무3길 54  35.822097  127.150451  385615.0   \n",
       "25749      경상남도 거창군 위천면 거차1길 23-18  35.747967  127.836350  385504.0   \n",
       "25750          전라남도 여수시 돌산읍 강남로 45  34.719781  127.750254  385558.0   \n",
       "25751             전라남도 순천시 팔마로 153  34.944613  127.504991  404848.0   \n",
       "25752    인천광역시 서구 완정로117번길 31(왕길동)  37.600624  126.659497  403843.0   \n",
       "\n",
       "                                                객실이미지URL  \\\n",
       "0      https://yaimg.yanolja.com/resize/place/v4/2017...   \n",
       "1      https://yaimg.yanolja.com/v5/2022/04/28/10/626...   \n",
       "2      https://yaimg.yanolja.com/v5/2020/01/20/10/5e2...   \n",
       "3      https://yaimg.yanolja.com/resize/place/v4/2017...   \n",
       "4      https://yaimg.yanolja.com/resize/place/v4/2017...   \n",
       "...                                                  ...   \n",
       "25748  https://yaimg.yanolja.com/v5/2021/06/01/18/60b...   \n",
       "25749  https://yaimg.yanolja.com/v5/2022/08/23/19/630...   \n",
       "25750  https://yaimg.yanolja.com/v5/2021/05/31/17/60b...   \n",
       "25751  https://yaimg.yanolja.com/v5/2021/08/27/15/612...   \n",
       "25752  https://yaimg.yanolja.com/v5/2021/08/30/11/612...   \n",
       "\n",
       "                       이미지갱신일자  \n",
       "0      2024-11-14 16:02:46.000  \n",
       "1      2024-10-08 16:58:31.000  \n",
       "2      2024-04-26 12:15:14.000  \n",
       "3      2023-10-24 17:11:12.000  \n",
       "4      2023-08-15 15:52:11.000  \n",
       "...                        ...  \n",
       "25748  2024-01-01 04:03:08.000  \n",
       "25749  2024-12-06 14:11:41.000  \n",
       "25750  2024-11-02 23:13:02.000  \n",
       "25751  2024-12-09 15:40:18.000  \n",
       "25752  2024-07-17 12:56:32.000  \n",
       "\n",
       "[25753 rows x 11 columns]"
      ]
     },
     "execution_count": 24,
     "metadata": {},
     "output_type": "execute_result"
    }
   ],
   "source": [
    "pd.read_csv('data/price.csv')"
   ]
  },
  {
   "cell_type": "code",
   "execution_count": null,
   "metadata": {},
   "outputs": [],
   "source": []
  },
  {
   "cell_type": "code",
   "execution_count": 11,
   "metadata": {},
   "outputs": [],
   "source": [
    "df_price.to_csv(\"./data/price.csv\", index=False, encoding=\"utf-8-sig\")"
   ]
  },
  {
   "cell_type": "code",
   "execution_count": 22,
   "metadata": {},
   "outputs": [
    {
     "data": {
      "text/html": [
       "<div>\n",
       "<style scoped>\n",
       "    .dataframe tbody tr th:only-of-type {\n",
       "        vertical-align: middle;\n",
       "    }\n",
       "\n",
       "    .dataframe tbody tr th {\n",
       "        vertical-align: top;\n",
       "    }\n",
       "\n",
       "    .dataframe thead th {\n",
       "        text-align: right;\n",
       "    }\n",
       "</style>\n",
       "<table border=\"1\" class=\"dataframe\">\n",
       "  <thead>\n",
       "    <tr style=\"text-align: right;\">\n",
       "      <th></th>\n",
       "      <th>숙박유형명</th>\n",
       "      <th>평균판매금액</th>\n",
       "      <th>지역명</th>\n",
       "      <th>성수기여부</th>\n",
       "    </tr>\n",
       "  </thead>\n",
       "  <tbody>\n",
       "    <tr>\n",
       "      <th>0</th>\n",
       "      <td>Hotel</td>\n",
       "      <td>88667</td>\n",
       "      <td>강원도 강릉시</td>\n",
       "      <td>0</td>\n",
       "    </tr>\n",
       "    <tr>\n",
       "      <th>1</th>\n",
       "      <td>Hotel</td>\n",
       "      <td>205885</td>\n",
       "      <td>강원도 강릉시</td>\n",
       "      <td>1</td>\n",
       "    </tr>\n",
       "    <tr>\n",
       "      <th>2</th>\n",
       "      <td>Hotel</td>\n",
       "      <td>96455</td>\n",
       "      <td>강원도 강릉시</td>\n",
       "      <td>0</td>\n",
       "    </tr>\n",
       "    <tr>\n",
       "      <th>3</th>\n",
       "      <td>Hotel</td>\n",
       "      <td>142178</td>\n",
       "      <td>강원도 강릉시</td>\n",
       "      <td>1</td>\n",
       "    </tr>\n",
       "    <tr>\n",
       "      <th>4</th>\n",
       "      <td>Hotel</td>\n",
       "      <td>65000</td>\n",
       "      <td>강원도 강릉시</td>\n",
       "      <td>0</td>\n",
       "    </tr>\n",
       "    <tr>\n",
       "      <th>...</th>\n",
       "      <td>...</td>\n",
       "      <td>...</td>\n",
       "      <td>...</td>\n",
       "      <td>...</td>\n",
       "    </tr>\n",
       "    <tr>\n",
       "      <th>481</th>\n",
       "      <td>Motel</td>\n",
       "      <td>41600</td>\n",
       "      <td>경기도 평택시</td>\n",
       "      <td>0</td>\n",
       "    </tr>\n",
       "    <tr>\n",
       "      <th>482</th>\n",
       "      <td>Motel</td>\n",
       "      <td>55000</td>\n",
       "      <td>경기도 평택시</td>\n",
       "      <td>0</td>\n",
       "    </tr>\n",
       "    <tr>\n",
       "      <th>483</th>\n",
       "      <td>Motel</td>\n",
       "      <td>55406</td>\n",
       "      <td>경기도 평택시</td>\n",
       "      <td>0</td>\n",
       "    </tr>\n",
       "    <tr>\n",
       "      <th>484</th>\n",
       "      <td>Motel</td>\n",
       "      <td>46667</td>\n",
       "      <td>경기도 평택시</td>\n",
       "      <td>0</td>\n",
       "    </tr>\n",
       "    <tr>\n",
       "      <th>485</th>\n",
       "      <td>Motel</td>\n",
       "      <td>52375</td>\n",
       "      <td>경기도 평택시</td>\n",
       "      <td>0</td>\n",
       "    </tr>\n",
       "  </tbody>\n",
       "</table>\n",
       "<p>486 rows × 4 columns</p>\n",
       "</div>"
      ],
      "text/plain": [
       "     숙박유형명  평균판매금액      지역명  성수기여부\n",
       "0    Hotel   88667  강원도 강릉시      0\n",
       "1    Hotel  205885  강원도 강릉시      1\n",
       "2    Hotel   96455  강원도 강릉시      0\n",
       "3    Hotel  142178  강원도 강릉시      1\n",
       "4    Hotel   65000  강원도 강릉시      0\n",
       "..     ...     ...      ...    ...\n",
       "481  Motel   41600  경기도 평택시      0\n",
       "482  Motel   55000  경기도 평택시      0\n",
       "483  Motel   55406  경기도 평택시      0\n",
       "484  Motel   46667  경기도 평택시      0\n",
       "485  Motel   52375  경기도 평택시      0\n",
       "\n",
       "[486 rows x 4 columns]"
      ]
     },
     "execution_count": 22,
     "metadata": {},
     "output_type": "execute_result"
    }
   ],
   "source": [
    "pd.read_csv('./data/price.csv')"
   ]
  },
  {
   "cell_type": "code",
   "execution_count": null,
   "metadata": {},
   "outputs": [
    {
     "data": {
      "text/html": [
       "<div>\n",
       "<style scoped>\n",
       "    .dataframe tbody tr th:only-of-type {\n",
       "        vertical-align: middle;\n",
       "    }\n",
       "\n",
       "    .dataframe tbody tr th {\n",
       "        vertical-align: top;\n",
       "    }\n",
       "\n",
       "    .dataframe thead th {\n",
       "        text-align: right;\n",
       "    }\n",
       "</style>\n",
       "<table border=\"1\" class=\"dataframe\">\n",
       "  <thead>\n",
       "    <tr style=\"text-align: right;\">\n",
       "      <th></th>\n",
       "      <th>숙박유형명</th>\n",
       "      <th>평균판매금액</th>\n",
       "      <th>지역명</th>\n",
       "      <th>성수기여부</th>\n",
       "    </tr>\n",
       "  </thead>\n",
       "  <tbody>\n",
       "    <tr>\n",
       "      <th>0</th>\n",
       "      <td>Hotel</td>\n",
       "      <td>88667</td>\n",
       "      <td>강원도 강릉시</td>\n",
       "      <td>비수기</td>\n",
       "    </tr>\n",
       "    <tr>\n",
       "      <th>1</th>\n",
       "      <td>Hotel</td>\n",
       "      <td>205885</td>\n",
       "      <td>강원도 강릉시</td>\n",
       "      <td>성수기</td>\n",
       "    </tr>\n",
       "  </tbody>\n",
       "</table>\n",
       "</div>"
      ],
      "text/plain": [
       "   숙박유형명  평균판매금액      지역명 성수기여부\n",
       "0  Hotel   88667  강원도 강릉시   비수기\n",
       "1  Hotel  205885  강원도 강릉시   성수기"
      ]
     },
     "execution_count": 4,
     "metadata": {},
     "output_type": "execute_result"
    }
   ],
   "source": []
  },
  {
   "cell_type": "code",
   "execution_count": 6,
   "metadata": {},
   "outputs": [
    {
     "data": {
      "text/plain": [
       "array(['강원도 강릉시', '강원도 고성군', '강원도 동해시', '강원도 삼척시', '강원도 속초시', '강원도 양구군',\n",
       "       '강원도 양양군', '강원도 영월군', '강원도 원주시', '강원도 인제군', '강원도 정선군', '강원도 철원군',\n",
       "       '강원도 춘천시', '강원도 태백시', '강원도 평창군', '강원도 홍천군', '강원도 화천군', '강원도 횡성군',\n",
       "       '경기도 가평군', '경기도 고양시덕양구', '경기도 고양시일산동구', '경기도 고양시일산서구', '경기도 과천시',\n",
       "       '경기도 광명시', '경기도 광주시', '경기도 구리시', '경기도 군포시', '경기도 김포시', '경기도 남양주시',\n",
       "       '경기도 동두천시', '경기도 부천시', '경기도 성남시분당구', '경기도 성남시수정구', '경기도 성남시중원구',\n",
       "       '경기도 수원시권선구', '경기도 수원시영통구', '경기도 수원시장안구', '경기도 수원시팔달구', '경기도 시흥시',\n",
       "       '경기도 안산시단원구', '경기도 안산시상록구', '경기도 안성시', '경기도 안양시동안구', '경기도 안양시만안구',\n",
       "       '경기도 양주시', '경기도 양평군', '경기도 여주시', '경기도 연천군', '경기도 오산시',\n",
       "       '경기도 용인시기흥구', '경기도 용인시수지구', '경기도 용인시처인구', '경기도 의왕시', '경기도 의정부시',\n",
       "       '경기도 이천시', '경기도 파주시', '경기도 평택시'], dtype=object)"
      ]
     },
     "execution_count": 6,
     "metadata": {},
     "output_type": "execute_result"
    }
   ],
   "source": [
    "df['지역명'].unique()"
   ]
  },
  {
   "cell_type": "code",
   "execution_count": null,
   "metadata": {},
   "outputs": [
    {
     "data": {
      "text/html": [
       "<div>\n",
       "<style scoped>\n",
       "    .dataframe tbody tr th:only-of-type {\n",
       "        vertical-align: middle;\n",
       "    }\n",
       "\n",
       "    .dataframe tbody tr th {\n",
       "        vertical-align: top;\n",
       "    }\n",
       "\n",
       "    .dataframe thead th {\n",
       "        text-align: right;\n",
       "    }\n",
       "</style>\n",
       "<table border=\"1\" class=\"dataframe\">\n",
       "  <thead>\n",
       "    <tr style=\"text-align: right;\">\n",
       "      <th></th>\n",
       "      <th>숙박유형명</th>\n",
       "      <th>평균판매금액</th>\n",
       "      <th>지역명</th>\n",
       "      <th>성수기여부</th>\n",
       "    </tr>\n",
       "  </thead>\n",
       "  <tbody>\n",
       "    <tr>\n",
       "      <th>0</th>\n",
       "      <td>Hotel</td>\n",
       "      <td>88667</td>\n",
       "      <td>강원도 강릉시</td>\n",
       "      <td>0</td>\n",
       "    </tr>\n",
       "    <tr>\n",
       "      <th>1</th>\n",
       "      <td>Hotel</td>\n",
       "      <td>205885</td>\n",
       "      <td>강원도 강릉시</td>\n",
       "      <td>1</td>\n",
       "    </tr>\n",
       "    <tr>\n",
       "      <th>2</th>\n",
       "      <td>Hotel</td>\n",
       "      <td>96455</td>\n",
       "      <td>강원도 강릉시</td>\n",
       "      <td>0</td>\n",
       "    </tr>\n",
       "    <tr>\n",
       "      <th>3</th>\n",
       "      <td>Hotel</td>\n",
       "      <td>142178</td>\n",
       "      <td>강원도 강릉시</td>\n",
       "      <td>1</td>\n",
       "    </tr>\n",
       "    <tr>\n",
       "      <th>4</th>\n",
       "      <td>Hotel</td>\n",
       "      <td>65000</td>\n",
       "      <td>강원도 강릉시</td>\n",
       "      <td>0</td>\n",
       "    </tr>\n",
       "    <tr>\n",
       "      <th>...</th>\n",
       "      <td>...</td>\n",
       "      <td>...</td>\n",
       "      <td>...</td>\n",
       "      <td>...</td>\n",
       "    </tr>\n",
       "    <tr>\n",
       "      <th>481</th>\n",
       "      <td>Motel</td>\n",
       "      <td>41600</td>\n",
       "      <td>경기도 평택시</td>\n",
       "      <td>0</td>\n",
       "    </tr>\n",
       "    <tr>\n",
       "      <th>482</th>\n",
       "      <td>Motel</td>\n",
       "      <td>55000</td>\n",
       "      <td>경기도 평택시</td>\n",
       "      <td>0</td>\n",
       "    </tr>\n",
       "    <tr>\n",
       "      <th>483</th>\n",
       "      <td>Motel</td>\n",
       "      <td>55406</td>\n",
       "      <td>경기도 평택시</td>\n",
       "      <td>0</td>\n",
       "    </tr>\n",
       "    <tr>\n",
       "      <th>484</th>\n",
       "      <td>Motel</td>\n",
       "      <td>46667</td>\n",
       "      <td>경기도 평택시</td>\n",
       "      <td>0</td>\n",
       "    </tr>\n",
       "    <tr>\n",
       "      <th>485</th>\n",
       "      <td>Motel</td>\n",
       "      <td>52375</td>\n",
       "      <td>경기도 평택시</td>\n",
       "      <td>0</td>\n",
       "    </tr>\n",
       "  </tbody>\n",
       "</table>\n",
       "<p>486 rows × 4 columns</p>\n",
       "</div>"
      ],
      "text/plain": [
       "     숙박유형명  평균판매금액      지역명  성수기여부\n",
       "0    Hotel   88667  강원도 강릉시      0\n",
       "1    Hotel  205885  강원도 강릉시      1\n",
       "2    Hotel   96455  강원도 강릉시      0\n",
       "3    Hotel  142178  강원도 강릉시      1\n",
       "4    Hotel   65000  강원도 강릉시      0\n",
       "..     ...     ...      ...    ...\n",
       "481  Motel   41600  경기도 평택시      0\n",
       "482  Motel   55000  경기도 평택시      0\n",
       "483  Motel   55406  경기도 평택시      0\n",
       "484  Motel   46667  경기도 평택시      0\n",
       "485  Motel   52375  경기도 평택시      0\n",
       "\n",
       "[486 rows x 4 columns]"
      ]
     },
     "execution_count": 12,
     "metadata": {},
     "output_type": "execute_result"
    }
   ],
   "source": []
  },
  {
   "cell_type": "code",
   "execution_count": null,
   "metadata": {},
   "outputs": [],
   "source": []
  }
 ],
 "metadata": {
  "kernelspec": {
   "display_name": "hi",
   "language": "python",
   "name": "python3"
  },
  "language_info": {
   "codemirror_mode": {
    "name": "ipython",
    "version": 3
   },
   "file_extension": ".py",
   "mimetype": "text/x-python",
   "name": "python",
   "nbconvert_exporter": "python",
   "pygments_lexer": "ipython3",
   "version": "3.10.16"
  }
 },
 "nbformat": 4,
 "nbformat_minor": 2
}
